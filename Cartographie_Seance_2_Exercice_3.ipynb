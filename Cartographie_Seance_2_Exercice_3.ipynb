{
 "cells": [
  {
   "cell_type": "markdown",
   "metadata": {},
   "source": [
    "# <div class=\"alert alert-info\" role=\"alert\"><center>SNT<br>Localisation, cartographie et mobilité<br>Séance 2 - La géolocalisation par satellite<br>Exercice 3 : Décoder une trame NMEA avec Python</center></div>\n",
    "\n",
    "<img src=\"decoprogramme.png\">\n",
    "\n",
    "<div class=\"alert alert-info\" role=\"alert\">\n",
    "Un notebook Jupyter est composé de deux types de cellules :<br>\n",
    "<ul><li> des cellules contenant du <b>texte</b> qu'il est nécessaire <b>de lire pour suivre correctement les consignes</b> ;</li><br>\n",
    "<li>des cellules contenant du <b>code Python</b> qu'il est nécessaire <b>d'éxécuter dans l'ordre d'apparition</b>.</li></ul><br>\n",
    "<br>\n",
    "<b>Pour exécuter une cellule sélectionnée</b> (encadrée en vert), il faut cliquer :<br>\n",
    "<ul><li>sur le bouton \"Exécuter\" situé à côté de la cellule<br><img src=\"Jupyter_Executer.bis.jpg\"></li><br>\n",
    "<li>ou sur le bouton \"Exécuter\" dans le bandeau supérieur.\n",
    "<br>\n",
    "<center><img src=\"Jupyter_Executer.jpg\"></center><br></li></ul>\n",
    "<br>\n",
    "Sur la gauche d'une cellule contenant du code Python, il y a l'indication <b>Entrée [&#160;&#160;]</b><br>\n",
    "<ul><li><b>Entrée [&#160;&#160;]</b> signifie que la cellule n'a pas été exécutée ;</li><br>\n",
    "<li><b>Entrée [*]</b> signifie que la cellule est en cours d'exécution. Soit il faut une action de votre part (saisie d'une valeur dans un <b>Input</b>, soit il faut donc patienter quelques secondes pour que tout le code s'exécute ;</li><br>\n",
    "<li><b>Entrée [14]</b> signifie que la cellule a été exécutée au rang 14.</li></ul><br>\n",
    "</div>\n",
    "\n",
    "<br>\n",
    "<div class=\"alert alert-danger\" role=\"alert\">\n",
    "<center><font size=\"5\">Ne modifier que la partie du code contenant ---A COMPLETER---</font></center>\n",
    "</div>"
   ]
  },
  {
   "cell_type": "markdown",
   "metadata": {},
   "source": [
    "<div class=\"alert alert-success\" role=\"alert\">\n",
    "On considère la trame suivante : $GPRMC,180522.230,A,4329.127733,N,00128.75845,W,,,290220,000.0,W*64\n",
    "</div>"
   ]
  },
  {
   "cell_type": "code",
   "execution_count": null,
   "metadata": {
    "collapsed": true
   },
   "outputs": [],
   "source": [
    "Trame = \"$GPRMC,180522.230,A,4329.127733,N,00128.75845,W,,,290220,000.0,W*64\""
   ]
  },
  {
   "cell_type": "markdown",
   "metadata": {},
   "source": [
    "<div class=\"alert alert-success\" role=\"alert\">\n",
    "On convertit la trame en une liste d'éléments.\n",
    "</div>"
   ]
  },
  {
   "cell_type": "code",
   "execution_count": null,
   "metadata": {
    "collapsed": true
   },
   "outputs": [],
   "source": [
    "Liste=Trame.split(',')"
   ]
  },
  {
   "cell_type": "markdown",
   "metadata": {},
   "source": [
    "<div class=\"alert alert-success\" role=\"alert\">\n",
    "Il faut maintenant comprendre comment les informations sont stockées.\n",
    "</div>"
   ]
  },
  {
   "cell_type": "code",
   "execution_count": null,
   "metadata": {
    "collapsed": true
   },
   "outputs": [],
   "source": [
    "print(Liste)"
   ]
  },
  {
   "cell_type": "markdown",
   "metadata": {},
   "source": [
    "<br>\n",
    "<hr>\n",
    "\n",
    "## 1. Décoder l'heure affichée dans la trame"
   ]
  },
  {
   "cell_type": "code",
   "execution_count": null,
   "metadata": {
    "collapsed": true
   },
   "outputs": [],
   "source": [
    "\"\"\"\n",
    "Fonction important une liste d'élèments provenant d'une trame NMEA pour déterminer l'heure d'envoi (heure, minute et seconde)\n",
    "Entrées : la liste\n",
    "Résultat : heure, minute et seconde de l'envoi par le satellite\n",
    "\"\"\"\n",
    "def heure(liste):\n",
    "    heure=int(liste[1][0:2]) #on affecte à la variable heure (définie en tant qu'entier) les 1er et 2ème caractères de la 2ème chaîne de la liste\n",
    "    minute=int(liste[1][2:4])  #on affecte à la variable minute (définie en tant qu'entier) les 3ème et 4ème caractères de la 2ème chaîne de la liste\n",
    "    seconde=float(liste[1][4:])  #on affecte à la variable seconde (définie en tant que nombre à virgule) les derniers caractères de la 2ème chaîne à partir du 5ème caractère\n",
    "    print(\"heure d'envoi : \",heure,\"h\",minute,\"min\",seconde,\"s\")"
   ]
  },
  {
   "cell_type": "markdown",
   "metadata": {},
   "source": [
    "<div class=\"alert alert-warning\" role=\"alert\">\n",
    "Après avoir compris le fonctionnement de la fonction <font color=red>*heure*</font>, compléter la 1ère ligne de code ci-dessous pour afficher le graphique représentant la trajectoire du centre du système étudié.\n",
    "<br>\n",
    "<br>\n",
    "<details>\n",
    "<summary>Aide</summary>\n",
    "<p>Il est nécessaire de bien lire la description de la fonction et plus particulièrement la ligne *Entrée*.</p>\n",
    "</details>\n",
    "<br>\n",
    "<details>\n",
    "<summary>Aide</summary>\n",
    "<p>Le code Python est sensible à la casse : liste est différent de Liste.</p>\n",
    "</details>\n",
    "</div>"
   ]
  },
  {
   "cell_type": "code",
   "execution_count": null,
   "metadata": {
    "collapsed": true
   },
   "outputs": [],
   "source": [
    "heure(---A COMPLETER---)"
   ]
  },
  {
   "cell_type": "markdown",
   "metadata": {},
   "source": [
    "<div class=\"alert alert-warning\" role=\"alert\">\n",
    "Nous allons maintenant expliquer plus en détail la première instruction de la fonction <font color=red>*heure*</font> : <b>heure=int(liste[1][0:2])</b>\n",
    "</div>"
   ]
  },
  {
   "cell_type": "code",
   "execution_count": null,
   "metadata": {
    "collapsed": true
   },
   "outputs": [],
   "source": [
    "print(Liste[1])"
   ]
  },
  {
   "cell_type": "code",
   "execution_count": null,
   "metadata": {
    "collapsed": true
   },
   "outputs": [],
   "source": [
    "print(Liste[1][0:2])\n",
    "print(type(Liste[1][0:2]))"
   ]
  },
  {
   "cell_type": "code",
   "execution_count": null,
   "metadata": {
    "collapsed": true
   },
   "outputs": [],
   "source": [
    "print(int(Liste[1][0:2]))\n",
    "print(type(int(Liste[1][0:2])))"
   ]
  },
  {
   "cell_type": "markdown",
   "metadata": {},
   "source": [
    "<div class=\"alert alert-success\" role=\"alert\">\n",
    "<b>Liste[1]</b> correspond au deuxième élément de la liste : c'est la chaîne '180522.230' indiquant l'heure.<br>\n",
    "<b>Liste[1][0 :2]</b> correspond aux deux premiers éléments de cette chaîne : ‘18'<br>\n",
    "<b>Int(liste[1][0 :2])</b> permet de convertir cette chaîne en nombre entier : 18 qui correspond au nombre d'heures.<br>\n",
    "La valeur stockée dans la variable heure est donc le nombre 18.\n",
    "</div>"
   ]
  },
  {
   "cell_type": "markdown",
   "metadata": {},
   "source": [
    "<div class=\"alert alert-warning\" role=\"alert\">\n",
    "Sur le modèle précédent, compléter les différentes lignes de code ci-dessous pour expliquer plus en détail la deuxième instruction de la fonction <font color=red>*heure*</font> : <b>minute=int(liste[1][2:4])</b>\n",
    "<br>"
   ]
  },
  {
   "cell_type": "code",
   "execution_count": null,
   "metadata": {
    "collapsed": true
   },
   "outputs": [],
   "source": [
    "print(---A COMPLETER---)"
   ]
  },
  {
   "cell_type": "code",
   "execution_count": null,
   "metadata": {
    "collapsed": true
   },
   "outputs": [],
   "source": [
    "print(---A COMPLETER---)\n",
    "print(type(---A COMPLETER---))"
   ]
  },
  {
   "cell_type": "code",
   "execution_count": null,
   "metadata": {
    "collapsed": true
   },
   "outputs": [],
   "source": [
    "print(---A COMPLETER---)\n",
    "print(type(---A COMPLETER---))"
   ]
  },
  {
   "cell_type": "markdown",
   "metadata": {},
   "source": [
    "<div class=\"alert alert-danger\" role=\"alert\">\n",
    "<details>\n",
    "<summary>Solution</summary>\n",
    "<p>minute = 05 (sous forme d'un entier) car Liste[1][2 :4] correspond aux 3ème et 4ème éléments de cette chaîne : ‘05'</p>\n",
    "</details>\n",
    "</div>"
   ]
  },
  {
   "cell_type": "markdown",
   "metadata": {},
   "source": [
    "<div class=\"alert alert-warning\" role=\"alert\">\n",
    "Sur le modèle précédent, compléter les différentes lignes de code ci-dessous pour expliquer plus en détail la troisième instruction de la fonction <font color=red>*heure*</font> : <b>seconde=float(liste[1][4:])</b>\n",
    "<br>"
   ]
  },
  {
   "cell_type": "code",
   "execution_count": null,
   "metadata": {
    "collapsed": true
   },
   "outputs": [],
   "source": [
    "print(---A COMPLETER---)"
   ]
  },
  {
   "cell_type": "code",
   "execution_count": null,
   "metadata": {
    "collapsed": true
   },
   "outputs": [],
   "source": [
    "print(---A COMPLETER---)\n",
    "print(type(---A COMPLETER---))"
   ]
  },
  {
   "cell_type": "code",
   "execution_count": null,
   "metadata": {
    "collapsed": true
   },
   "outputs": [],
   "source": [
    "print(---A COMPLETER---)\n",
    "print(type(---A COMPLETER---))"
   ]
  },
  {
   "cell_type": "markdown",
   "metadata": {},
   "source": [
    "<div class=\"alert alert-danger\" role=\"alert\">\n",
    "<details>\n",
    "<summary>Solution</summary>\n",
    "<p>seconde = 22.23 (sous forme d'un nombre décimal) car Liste[1][4 :] correspond aux éléments à partir du 5ème élément de cette chaîne : ‘22.230'</p>\n",
    "</details>\n",
    "</div>"
   ]
  },
  {
   "cell_type": "markdown",
   "metadata": {},
   "source": [
    "<br>\n",
    "<hr>\n",
    "\n",
    "## 2. Décoder la latitude et la longitude affichées dans la trame"
   ]
  },
  {
   "cell_type": "markdown",
   "metadata": {},
   "source": [
    "<div class=\"alert alert-warning\" role=\"alert\">\n",
    "En vous inspirant de la fonction <font color=red>*heure*</font>, compléter les lignes de la fonction <font color=red>*latitude*</font> et les lignes de la fonction <font color=red>*longitude*</font> permettant d'obtenir la latitude et la longitude de la trame au format DMS.\n",
    "<br>\n",
    "<br>\n",
    "<details>\n",
    "<summary>Aide</summary>\n",
    "<p>La fonction round(x,4) permet d'obtenir un arrondi du nombre x avec 4 décimales.</p>\n",
    "</details>\n",
    "<br>\n",
    "<details>\n",
    "<summary>Aide</summary>\n",
    "<p>Le format DMS signifie degré, minute, seconde.<br> Dans la trame NMEA, la latitude et la longitude sont au format DDMM.MMMM en dix millième de minutes (D = degré ; M = minutes).</p>\n",
    "</details>\n",
    "</div>"
   ]
  },
  {
   "cell_type": "code",
   "execution_count": null,
   "metadata": {
    "collapsed": true
   },
   "outputs": [],
   "source": [
    "print(Liste)"
   ]
  },
  {
   "cell_type": "code",
   "execution_count": null,
   "metadata": {
    "collapsed": true
   },
   "outputs": [],
   "source": [
    "# fonction qui affiche l'heure d'envoi de la trame:\n",
    "def heure(liste):\n",
    "    heure=int(liste[1][0:2])\n",
    "    minute=int(liste[1][2:4])\n",
    "    seconde=float(liste[1][4:])\n",
    "    print(\"heure d'envoi : \", heure,\"h\",minute,\"min\",seconde,\"s\")\n",
    "\n",
    "#fonction qui affiche la lattitude:\n",
    "def latitude(liste):\n",
    "    degre=int(liste[---A COMPLETER---][---A COMPLETER---])\n",
    "    minute=int(liste[---A COMPLETER---][---A COMPLETER---])\n",
    "    seconde=round(float(liste[---A COMPLETER---][---A COMPLETER---]) * ---A COMPLETER--- ,4)\n",
    "    print(\"latitude : \", degre,\"°\",minute,\"'\",seconde,\"'',\",liste[---A COMPLETER---])\n",
    "\n",
    "#fonction qui affiche la longitude:\n",
    "def longitude(liste):\n",
    "    degre=int(liste[---A COMPLETER---][---A COMPLETER---])\n",
    "    minute=int(liste[---A COMPLETER---][---A COMPLETER---])\n",
    "    seconde=round(float(liste[---A COMPLETER---][---A COMPLETER---]) * ---A COMPLETER---,4)\n",
    "    print(\"longitude : \", degre,\"°\",minute,\"'\",seconde,\"'',\",liste[---A COMPLETER---])"
   ]
  },
  {
   "cell_type": "markdown",
   "metadata": {},
   "source": [
    "<div class=\"alert alert-success\" role=\"alert\">\n",
    "Pour vérifier que vous avez correctement complété les fonctions, exécuter la cellule ci-dessous et comparer avec la solution.\n",
    "<details>\n",
    "<summary>Solution</summary>\n",
    "<p>latitude :  43 ° 29 ' 7.664 '', N<br>\n",
    "longitude :  1 ° 28 ' 45.507 '', W</p>\n",
    "</details>\n",
    "</div>"
   ]
  },
  {
   "cell_type": "code",
   "execution_count": null,
   "metadata": {
    "collapsed": true
   },
   "outputs": [],
   "source": [
    "latitude(Liste)\n",
    "longitude(Liste)"
   ]
  },
  {
   "cell_type": "markdown",
   "metadata": {},
   "source": [
    "<br>\n",
    "<hr>\n",
    "\n",
    "## 3. Décoder une trame complète"
   ]
  },
  {
   "cell_type": "code",
   "execution_count": null,
   "metadata": {
    "collapsed": true
   },
   "outputs": [],
   "source": [
    "print(Trame)"
   ]
  },
  {
   "cell_type": "code",
   "execution_count": null,
   "metadata": {
    "collapsed": true
   },
   "outputs": [],
   "source": [
    "#fonction qui regroupe l'heure, l'altitude et la longitude:\n",
    "def decodage(trame):\n",
    "    liste=trame.split(',') #permet la conversion de la chaîne en liste\n",
    "    heure(liste)\n",
    "    latitude(liste)\n",
    "    longitude(liste)"
   ]
  },
  {
   "cell_type": "markdown",
   "metadata": {},
   "source": [
    "<div class=\"alert alert-warning\" role=\"alert\">\n",
    "La fonction <font color=red>*decodage*</font> convertit la trame en liste et regroupe les autres fonctions précédentes. Utiliser cette fonction pour obtenir les informations cherchées de la trame et comparer avec la solution.\n",
    "<details>\n",
    "<summary>Aide</summary>\n",
    "<p>Le code Python est sensible à la casse : trame est différent de Trame.</p>\n",
    "</details>\n",
    "</div>"
   ]
  },
  {
   "cell_type": "code",
   "execution_count": null,
   "metadata": {
    "collapsed": true
   },
   "outputs": [],
   "source": [
    "decodage(---A COMPLETER---)"
   ]
  },
  {
   "cell_type": "markdown",
   "metadata": {},
   "source": [
    "<div class=\"alert alert-success\" role=\"alert\">\n",
    "<details>\n",
    "<summary>Solution</summary>\n",
    "<p>heure d'envoi :  18 h 5 min 22.23 s<br>\n",
    "latitude :  43 ° 29 ' 7.664 '', N<br>\n",
    "longitude :  1 ° 28 ' 45.507 '', W</p>\n",
    "</details>\n",
    "</div>"
   ]
  },
  {
   "cell_type": "markdown",
   "metadata": {},
   "source": [
    "<br>\n",
    "<hr>\n",
    "\n",
    "## 4. Recherche du lieu présenté par la trame"
   ]
  },
  {
   "cell_type": "markdown",
   "metadata": {},
   "source": [
    "<div class=\"alert alert-info\" role=\"alert\">\n",
    "<p>Retournez sur le <a href=\"http://sciences-ingenieur.genevoix-signoret-vinci.fr/SNT/6-cartographie/co/05_Ex3-trameNMEA_Python.html\" class=\"alert-link\">module web</a> de la séance pour finir l'exercice 3.</p>\n",
    "</div>"
   ]
  },
  {
   "cell_type": "code",
   "execution_count": null,
   "metadata": {
    "collapsed": true
   },
   "outputs": [],
   "source": []
  }
 ],
 "metadata": {
  "kernelspec": {
   "display_name": "Python 3",
   "language": "python",
   "name": "python3"
  },
  "language_info": {
   "codemirror_mode": {
    "name": "ipython",
    "version": 3
   },
   "file_extension": ".py",
   "mimetype": "text/x-python",
   "name": "python",
   "nbconvert_exporter": "python",
   "pygments_lexer": "ipython3",
   "version": "3.4.5"
  }
 },
 "nbformat": 4,
 "nbformat_minor": 2
}
